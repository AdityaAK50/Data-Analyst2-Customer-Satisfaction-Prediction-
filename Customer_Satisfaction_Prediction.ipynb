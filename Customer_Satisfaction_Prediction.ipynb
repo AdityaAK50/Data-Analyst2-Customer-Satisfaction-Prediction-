{
  "nbformat": 4,
  "nbformat_minor": 0,
  "metadata": {
    "colab": {
      "provenance": [],
      "authorship_tag": "ABX9TyPI82QCccOXZMuxh7Ro9VEm",
      "include_colab_link": true
    },
    "kernelspec": {
      "name": "python3",
      "display_name": "Python 3"
    },
    "language_info": {
      "name": "python"
    }
  },
  "cells": [
    {
      "cell_type": "markdown",
      "metadata": {
        "id": "view-in-github",
        "colab_type": "text"
      },
      "source": [
        "<a href=\"https://colab.research.google.com/github/AdityaAK50/Data-Analyst2-Customer-Satisfaction-Prediction-/blob/main/Customer_Satisfaction_Prediction.ipynb\" target=\"_parent\"><img src=\"https://colab.research.google.com/assets/colab-badge.svg\" alt=\"Open In Colab\"/></a>"
      ]
    },
    {
      "cell_type": "code",
      "source": [
        "import pandas as pd"
      ],
      "metadata": {
        "id": "97O1WoZHI7x3"
      },
      "execution_count": null,
      "outputs": []
    },
    {
      "cell_type": "code",
      "source": [
        "file_path = '/content/customer_support_tickets (1).csv'\n",
        "data = pd.read_csv(file_path)"
      ],
      "metadata": {
        "id": "0qQl_0KlI7ws"
      },
      "execution_count": null,
      "outputs": []
    },
    {
      "cell_type": "code",
      "source": [
        "print(\"Initial Data:\")\n",
        "print(data.head())"
      ],
      "metadata": {
        "colab": {
          "base_uri": "https://localhost:8080/"
        },
        "id": "FV7K5IOhI7vW",
        "outputId": "4c0bae54-8eb3-460c-dce1-c6f7c10c30ed"
      },
      "execution_count": null,
      "outputs": [
        {
          "output_type": "stream",
          "name": "stdout",
          "text": [
            "Initial Data:\n",
            "   Ticket ID        Customer Name              Customer Email  Customer Age  \\\n",
            "0          1        Marisa Obrien  carrollallison@example.com            32   \n",
            "1          2         Jessica Rios    clarkeashley@example.com            42   \n",
            "2          3  Christopher Robbins   gonzalestracy@example.com            48   \n",
            "3          4     Christina Dillon    bradleyolson@example.org            27   \n",
            "4          5    Alexander Carroll     bradleymark@example.com            67   \n",
            "\n",
            "  Customer Gender Product Purchased Date of Purchase      Ticket Type  \\\n",
            "0           Other        GoPro Hero       2021-03-22  Technical issue   \n",
            "1          Female       LG Smart TV       2021-05-22  Technical issue   \n",
            "2           Other          Dell XPS       2020-07-14  Technical issue   \n",
            "3          Female  Microsoft Office       2020-11-13  Billing inquiry   \n",
            "4          Female  Autodesk AutoCAD       2020-02-04  Billing inquiry   \n",
            "\n",
            "             Ticket Subject  \\\n",
            "0             Product setup   \n",
            "1  Peripheral compatibility   \n",
            "2           Network problem   \n",
            "3            Account access   \n",
            "4                 Data loss   \n",
            "\n",
            "                                  Ticket Description  \\\n",
            "0  I'm having an issue with the {product_purchase...   \n",
            "1  I'm having an issue with the {product_purchase...   \n",
            "2  I'm facing a problem with my {product_purchase...   \n",
            "3  I'm having an issue with the {product_purchase...   \n",
            "4  I'm having an issue with the {product_purchase...   \n",
            "\n",
            "               Ticket Status                                     Resolution  \\\n",
            "0  Pending Customer Response                                            NaN   \n",
            "1  Pending Customer Response                                            NaN   \n",
            "2                     Closed   Case maybe show recently my computer follow.   \n",
            "3                     Closed  Try capital clearly never color toward story.   \n",
            "4                     Closed                    West decision evidence bit.   \n",
            "\n",
            "  Ticket Priority Ticket Channel  First Response Time   Time to Resolution  \\\n",
            "0        Critical   Social media  2023-06-01 12:15:36                  NaN   \n",
            "1        Critical           Chat  2023-06-01 16:45:38                  NaN   \n",
            "2             Low   Social media  2023-06-01 11:14:38  2023-06-01 18:05:38   \n",
            "3             Low   Social media  2023-06-01 07:29:40  2023-06-01 01:57:40   \n",
            "4             Low          Email  2023-06-01 00:12:42  2023-06-01 19:53:42   \n",
            "\n",
            "   Customer Satisfaction Rating  \n",
            "0                           NaN  \n",
            "1                           NaN  \n",
            "2                           3.0  \n",
            "3                           3.0  \n",
            "4                           1.0  \n"
          ]
        }
      ]
    },
    {
      "cell_type": "code",
      "source": [
        "numerical_summary = data.describe(include='number')\n",
        "print(\"\\nSummary Statistics for Numerical Features:\")\n",
        "print(numerical_summary)"
      ],
      "metadata": {
        "colab": {
          "base_uri": "https://localhost:8080/"
        },
        "id": "mgjHjO-vI7tu",
        "outputId": "ec2de899-6d17-4b88-bb9d-643e9bebae1c"
      },
      "execution_count": null,
      "outputs": [
        {
          "output_type": "stream",
          "name": "stdout",
          "text": [
            "\n",
            "Summary Statistics for Numerical Features:\n",
            "         Ticket ID  Customer Age  Customer Satisfaction Rating\n",
            "count  8469.000000   8469.000000                   2769.000000\n",
            "mean   4235.000000     44.026804                      2.991333\n",
            "std    2444.934048     15.296112                      1.407016\n",
            "min       1.000000     18.000000                      1.000000\n",
            "25%    2118.000000     31.000000                      2.000000\n",
            "50%    4235.000000     44.000000                      3.000000\n",
            "75%    6352.000000     57.000000                      4.000000\n",
            "max    8469.000000     70.000000                      5.000000\n"
          ]
        }
      ]
    },
    {
      "cell_type": "code",
      "source": [
        "mean_values = data.mean(numeric_only=True)\n",
        "median_values = data.median(numeric_only=True)\n",
        "std_dev_values = data.std(numeric_only=True)"
      ],
      "metadata": {
        "id": "w-gledUyI7sJ"
      },
      "execution_count": null,
      "outputs": []
    },
    {
      "cell_type": "code",
      "source": [
        "mode_values = data.mode(numeric_only=True).iloc[0]"
      ],
      "metadata": {
        "id": "OKToLvluI7px"
      },
      "execution_count": null,
      "outputs": []
    },
    {
      "cell_type": "code",
      "source": [
        "summary_stats = pd.DataFrame({\n",
        "    'Mean': mean_values,\n",
        "    'Median': median_values,\n",
        "    'Mode': mode_values,\n",
        "    'Standard Deviation': std_dev_values\n",
        "})"
      ],
      "metadata": {
        "id": "LRbni3s4I7nu"
      },
      "execution_count": null,
      "outputs": []
    },
    {
      "cell_type": "code",
      "source": [
        "print(\"\\nDetailed Summary Statistics:\")\n",
        "print(summary_stats)"
      ],
      "metadata": {
        "colab": {
          "base_uri": "https://localhost:8080/"
        },
        "id": "G_xNea3hI7l0",
        "outputId": "a5f80a6d-8136-4a18-f4e8-54ba149bede1"
      },
      "execution_count": null,
      "outputs": [
        {
          "output_type": "stream",
          "name": "stdout",
          "text": [
            "\n",
            "Detailed Summary Statistics:\n",
            "                                     Mean  Median  Mode  Standard Deviation\n",
            "Ticket ID                     4235.000000  4235.0   1.0         2444.934048\n",
            "Customer Age                    44.026804    44.0  52.0           15.296112\n",
            "Customer Satisfaction Rating     2.991333     3.0   3.0            1.407016\n"
          ]
        }
      ]
    },
    {
      "cell_type": "code",
      "source": [
        "categorical_columns = ['ticket_type', 'customer_gender']\n",
        "\n",
        "for column in categorical_columns:\n",
        "    if column in data.columns:\n",
        "        frequency_counts = data[column].value_counts()\n",
        "        print(f\"\\nFrequency Counts for {column}:\")\n",
        "        print(frequency_counts)\n",
        "    else:\n",
        "        print(f\"\\nColumn '{column}' does not exist in the dataset.\")"
      ],
      "metadata": {
        "colab": {
          "base_uri": "https://localhost:8080/"
        },
        "id": "7LcD1vlzI7iM",
        "outputId": "736132a8-b420-4843-a76f-d61204022c44"
      },
      "execution_count": null,
      "outputs": [
        {
          "output_type": "stream",
          "name": "stdout",
          "text": [
            "\n",
            "Column 'ticket_type' does not exist in the dataset.\n",
            "\n",
            "Column 'customer_gender' does not exist in the dataset.\n"
          ]
        }
      ]
    },
    {
      "cell_type": "markdown",
      "source": [
        "# Exploratory Data Analysis (EDA)\n"
      ],
      "metadata": {
        "id": "6rHEPx4mWuis"
      }
    },
    {
      "cell_type": "code",
      "source": [
        "import pandas as pd\n",
        "import matplotlib.pyplot as plt\n",
        "import seaborn as sns"
      ],
      "metadata": {
        "id": "OXYyI7CzI7ee"
      },
      "execution_count": null,
      "outputs": []
    },
    {
      "cell_type": "code",
      "source": [
        "file_path = '/content/customer_support_tickets (1).csv'\n",
        "data = pd.read_csv(file_path)"
      ],
      "metadata": {
        "id": "w5ZsfcqZI7dJ"
      },
      "execution_count": null,
      "outputs": []
    },
    {
      "cell_type": "code",
      "source": [
        "# Display the first few rows of the dataset\n",
        "print(\"Initial Data:\")\n",
        "print(data.head())"
      ],
      "metadata": {
        "colab": {
          "base_uri": "https://localhost:8080/"
        },
        "id": "oCN5Xgo9I7Zj",
        "outputId": "03673435-9ef5-4350-a776-8c9b8b1df0fe"
      },
      "execution_count": null,
      "outputs": [
        {
          "output_type": "stream",
          "name": "stdout",
          "text": [
            "Initial Data:\n",
            "   Ticket ID        Customer Name              Customer Email  Customer Age  \\\n",
            "0          1        Marisa Obrien  carrollallison@example.com            32   \n",
            "1          2         Jessica Rios    clarkeashley@example.com            42   \n",
            "2          3  Christopher Robbins   gonzalestracy@example.com            48   \n",
            "3          4     Christina Dillon    bradleyolson@example.org            27   \n",
            "4          5    Alexander Carroll     bradleymark@example.com            67   \n",
            "\n",
            "  Customer Gender Product Purchased Date of Purchase      Ticket Type  \\\n",
            "0           Other        GoPro Hero       2021-03-22  Technical issue   \n",
            "1          Female       LG Smart TV       2021-05-22  Technical issue   \n",
            "2           Other          Dell XPS       2020-07-14  Technical issue   \n",
            "3          Female  Microsoft Office       2020-11-13  Billing inquiry   \n",
            "4          Female  Autodesk AutoCAD       2020-02-04  Billing inquiry   \n",
            "\n",
            "             Ticket Subject  \\\n",
            "0             Product setup   \n",
            "1  Peripheral compatibility   \n",
            "2           Network problem   \n",
            "3            Account access   \n",
            "4                 Data loss   \n",
            "\n",
            "                                  Ticket Description  \\\n",
            "0  I'm having an issue with the {product_purchase...   \n",
            "1  I'm having an issue with the {product_purchase...   \n",
            "2  I'm facing a problem with my {product_purchase...   \n",
            "3  I'm having an issue with the {product_purchase...   \n",
            "4  I'm having an issue with the {product_purchase...   \n",
            "\n",
            "               Ticket Status                                     Resolution  \\\n",
            "0  Pending Customer Response                                            NaN   \n",
            "1  Pending Customer Response                                            NaN   \n",
            "2                     Closed   Case maybe show recently my computer follow.   \n",
            "3                     Closed  Try capital clearly never color toward story.   \n",
            "4                     Closed                    West decision evidence bit.   \n",
            "\n",
            "  Ticket Priority Ticket Channel  First Response Time   Time to Resolution  \\\n",
            "0        Critical   Social media  2023-06-01 12:15:36                  NaN   \n",
            "1        Critical           Chat  2023-06-01 16:45:38                  NaN   \n",
            "2             Low   Social media  2023-06-01 11:14:38  2023-06-01 18:05:38   \n",
            "3             Low   Social media  2023-06-01 07:29:40  2023-06-01 01:57:40   \n",
            "4             Low          Email  2023-06-01 00:12:42  2023-06-01 19:53:42   \n",
            "\n",
            "   Customer Satisfaction Rating  \n",
            "0                           NaN  \n",
            "1                           NaN  \n",
            "2                           3.0  \n",
            "3                           3.0  \n",
            "4                           1.0  \n"
          ]
        }
      ]
    },
    {
      "cell_type": "code",
      "source": [
        "sns.set(style=\"whitegrid\")"
      ],
      "metadata": {
        "id": "oJY5qW8bI7YR"
      },
      "execution_count": null,
      "outputs": []
    },
    {
      "cell_type": "code",
      "source": [
        "numerical_columns = data.select_dtypes(include=['int64', 'float64']).columns"
      ],
      "metadata": {
        "id": "63TfPvIII7T6"
      },
      "execution_count": null,
      "outputs": []
    },
    {
      "cell_type": "code",
      "source": [
        "plt.figure(figsize=(15, 10))\n",
        "for i, column in enumerate(numerical_columns, 1):\n",
        "    plt.subplot(3, 3, i)\n",
        "    sns.histplot(data[column], bins=30, kde=True)\n",
        "    plt.title(f'Histogram of {column}')\n",
        "    plt.xlabel(column)\n",
        "    plt.ylabel('Frequency')\n",
        "plt.tight_layout()\n",
        "plt.show()"
      ],
      "metadata": {
        "colab": {
          "base_uri": "https://localhost:8080/",
          "height": 319
        },
        "id": "5qNuSZDSI7QU",
        "outputId": "4929b924-3f2c-40fa-d800-1ee4a23b0647"
      },
      "execution_count": null,
      "outputs": [
        {
          "output_type": "display_data",
          "data": {
            "text/plain": [
              "<Figure size 1500x1000 with 3 Axes>"
            ],
            "image/png": "[encoded data removed]"
          },
          "metadata": {}
        }
      ]
    },
    {
      "cell_type": "code",
      "source": [
        "plt.figure(figsize=(15, 10))\n",
        "for i, column in enumerate(numerical_columns, 1):\n",
        "    plt.subplot(3, 3, i)\n",
        "    sns.boxplot(x=data[column])\n",
        "    plt.title(f'Box Plot of {column}')\n",
        "plt.tight_layout()\n",
        "plt.show()"
      ],
      "metadata": {
        "colab": {
          "base_uri": "https://localhost:8080/",
          "height": 319
        },
        "id": "VwtjzTZLI7PI",
        "outputId": "c6fafbc2-1f75-437f-f620-e9d61de45b7e"
      },
      "execution_count": null,
      "outputs": [
        {
          "output_type": "display_data",
          "data": {
            "text/plain": [
              "<Figure size 1500x1000 with 3 Axes>"
            ],
            "image/png": "[encoded data removed]"
          },
          "metadata": {}
        }
      ]
    },
    {
      "cell_type": "code",
      "source": [
        "categorical_columns = ['ticket_type', 'customer_gender']"
      ],
      "metadata": {
        "id": "HeQHxx1gI7NF"
      },
      "execution_count": null,
      "outputs": []
    },
    {
      "cell_type": "code",
      "source": [
        "for column in categorical_columns:\n",
        "    if column in data.columns:\n",
        "        plt.figure(figsize=(10, 6))\n",
        "        sns.countplot(data=data, x=column, palette='viridis')\n",
        "        plt.title(f'Count of {column}')\n",
        "        plt.xlabel(column)\n",
        "        plt.ylabel('Count')\n",
        "        plt.xticks(rotation=45)\n",
        "        plt.show()\n",
        "    else:\n",
        "        print(f\"Column '{column}' does not exist in the dataset.\")"
      ],
      "metadata": {
        "colab": {
          "base_uri": "https://localhost:8080/"
        },
        "id": "ZBmGKl67I7Lj",
        "outputId": "e540c659-0c2a-4a35-a7e2-24919e2930b4"
      },
      "execution_count": null,
      "outputs": [
        {
          "output_type": "stream",
          "name": "stdout",
          "text": [
            "Column 'ticket_type' does not exist in the dataset.\n",
            "Column 'customer_gender' does not exist in the dataset.\n"
          ]
        }
      ]
    },
    {
      "cell_type": "code",
      "source": [
        "if 'response.code' in data.columns and 'resolution_time' in data.columns:\n",
        "    plt.figure(figsize=(10, 6))\n",
        "    sns.scatterplot(data=data, x='resolution_time', y='response.code', alpha=0.6)\n",
        "    plt.title('Customer Satisfaction vs. Ticket Resolution Time')\n",
        "    plt.xlabel('Ticket Resolution Time')\n",
        "    plt.ylabel('Customer Satisfaction (Response Code)')\n",
        "    plt.axhline(200, color='red', linestyle='--', label='Success Threshold')\n",
        "    plt.legend()\n",
        "    plt.show()\n",
        "else:\n",
        "    print(\"One or both of the columns 'response.code' and 'resolution_time' do not exist in the dataset.\")"
      ],
      "metadata": {
        "colab": {
          "base_uri": "https://localhost:8080/"
        },
        "id": "EQhFwzr2I7KE",
        "outputId": "3cb6eb5b-e922-4abd-b7ea-79c2fcf8a2c6"
      },
      "execution_count": null,
      "outputs": [
        {
          "output_type": "stream",
          "name": "stdout",
          "text": [
            "One or both of the columns 'response.code' and 'resolution_time' do not exist in the dataset.\n"
          ]
        }
      ]
    },
    {
      "cell_type": "markdown",
      "source": [
        "# Sentiment Analysis"
      ],
      "metadata": {
        "id": "0ZTvl0jobAZ4"
      }
    },
    {
      "cell_type": "code",
      "source": [
        "import pandas as pd\n",
        "from textblob import TextBlob\n",
        "import matplotlib.pyplot as plt\n",
        "import seaborn as sns"
      ],
      "metadata": {
        "id": "4wVLsIWfI7H6"
      },
      "execution_count": null,
      "outputs": []
    },
    {
      "cell_type": "code",
      "source": [
        "file_path = '/content/customer_support_tickets (1).csv'\n",
        "data = pd.read_csv(file_path)"
      ],
      "metadata": {
        "id": "OXJE33olI7GG"
      },
      "execution_count": null,
      "outputs": []
    },
    {
      "cell_type": "code",
      "source": [
        "if 'ticket_description' in data.columns:\n",
        "    data['sentiment'] = data['ticket_description'].apply(lambda x: TextBlob(x).sentiment.polarity)\n",
        "\n",
        "    print(\"\\nData with Sentiment Scores:\")\n",
        "    print(data[['ticket_description', 'sentiment']].head())\n",
        "\n",
        "    if 'response.code' in data.columns:\n",
        "        correlation = data[['sentiment', 'response.code']].corr()\n",
        "        print(\"\\nCorrelation between Sentiment Scores and Customer Satisfaction Ratings:\")\n",
        "        print(correlation)\n",
        "\n",
        "        plt.figure(figsize=(8, 6))\n",
        "        sns.heatmap(correlation, annot=True, cmap='coolwarm', fmt=\".2f\")\n",
        "        plt.title('Correlation Heatmap')\n",
        "        plt.show()\n",
        "\n",
        "        plt.figure(figsize=(10, 6))\n",
        "        sns.scatterplot(x='sentiment', y='response.code', data=data)\n",
        "        plt.title('Sentiment Scores vs Customer Satisfaction Ratings')\n",
        "        plt.xlabel('Sentiment Score')\n",
        "        plt.ylabel('Customer Satisfaction Rating (Response Code)')\n",
        "        plt.axhline(200, color='red', linestyle='--', label='Success Threshold')\n",
        "        plt.legend()\n",
        "        plt.show()\n",
        "\n",
        "        avg_sentiment = data['sentiment'].mean()\n",
        "        print(f\"\\nAverage Sentiment Score: {avg_sentiment:.2f}\")\n",
        "        print(\"Conducting these analyses provides valuable insights into customer satisfaction trends, \"\n",
        "              \"identifies areas for improvement in customer support, and helps in developing predictive models \"\n",
        "              \"that can enhance customer experience.\")\n",
        "    else:\n",
        "        print(\"The dataset does not contain a 'response.code' column.\")\n",
        "else:\n",
        "    print(\"The dataset does not contain a 'ticket_description' column.\")"
      ],
      "metadata": {
        "colab": {
          "base_uri": "https://localhost:8080/"
        },
        "id": "YJJK1yc3I7Ec",
        "outputId": "a05eb1bb-e3de-4c86-d3d3-05f031b6546d"
      },
      "execution_count": null,
      "outputs": [
        {
          "output_type": "stream",
          "name": "stdout",
          "text": [
            "The dataset does not contain a 'ticket_description' column.\n"
          ]
        }
      ]
    },
    {
      "cell_type": "markdown",
      "source": [
        "# Customer Segmentation"
      ],
      "metadata": {
        "id": "gjhqqPtygDde"
      }
    },
    {
      "cell_type": "code",
      "source": [
        "import pandas as pd\n",
        "from textblob import TextBlob\n",
        "from sklearn.preprocessing import StandardScaler\n",
        "from sklearn.cluster import KMeans\n",
        "import matplotlib.pyplot as plt\n",
        "import seaborn as sns"
      ],
      "metadata": {
        "id": "tKk8YvRFI7Bd"
      },
      "execution_count": null,
      "outputs": []
    },
    {
      "cell_type": "code",
      "source": [
        "file_path = '/content/customer_support_tickets (1).csv'\n",
        "data = pd.read_csv(file_path)"
      ],
      "metadata": {
        "id": "5e9GaOEPI6_7"
      },
      "execution_count": null,
      "outputs": []
    },
    {
      "cell_type": "code",
      "source": [
        "print(\"Initial Data:\")\n",
        "print(data.head())"
      ],
      "metadata": {
        "colab": {
          "base_uri": "https://localhost:8080/"
        },
        "id": "zHsyN-3TI67e",
        "outputId": "8abc4195-0828-420b-c10a-17f07df91cc4"
      },
      "execution_count": null,
      "outputs": [
        {
          "output_type": "stream",
          "name": "stdout",
          "text": [
            "Initial Data:\n",
            "   Ticket ID        Customer Name              Customer Email  Customer Age  \\\n",
            "0          1        Marisa Obrien  carrollallison@example.com            32   \n",
            "1          2         Jessica Rios    clarkeashley@example.com            42   \n",
            "2          3  Christopher Robbins   gonzalestracy@example.com            48   \n",
            "3          4     Christina Dillon    bradleyolson@example.org            27   \n",
            "4          5    Alexander Carroll     bradleymark@example.com            67   \n",
            "\n",
            "  Customer Gender Product Purchased Date of Purchase      Ticket Type  \\\n",
            "0           Other        GoPro Hero       2021-03-22  Technical issue   \n",
            "1          Female       LG Smart TV       2021-05-22  Technical issue   \n",
            "2           Other          Dell XPS       2020-07-14  Technical issue   \n",
            "3          Female  Microsoft Office       2020-11-13  Billing inquiry   \n",
            "4          Female  Autodesk AutoCAD       2020-02-04  Billing inquiry   \n",
            "\n",
            "             Ticket Subject  \\\n",
            "0             Product setup   \n",
            "1  Peripheral compatibility   \n",
            "2           Network problem   \n",
            "3            Account access   \n",
            "4                 Data loss   \n",
            "\n",
            "                                  Ticket Description  \\\n",
            "0  I'm having an issue with the {product_purchase...   \n",
            "1  I'm having an issue with the {product_purchase...   \n",
            "2  I'm facing a problem with my {product_purchase...   \n",
            "3  I'm having an issue with the {product_purchase...   \n",
            "4  I'm having an issue with the {product_purchase...   \n",
            "\n",
            "               Ticket Status                                     Resolution  \\\n",
            "0  Pending Customer Response                                            NaN   \n",
            "1  Pending Customer Response                                            NaN   \n",
            "2                     Closed   Case maybe show recently my computer follow.   \n",
            "3                     Closed  Try capital clearly never color toward story.   \n",
            "4                     Closed                    West decision evidence bit.   \n",
            "\n",
            "  Ticket Priority Ticket Channel  First Response Time   Time to Resolution  \\\n",
            "0        Critical   Social media  2023-06-01 12:15:36                  NaN   \n",
            "1        Critical           Chat  2023-06-01 16:45:38                  NaN   \n",
            "2             Low   Social media  2023-06-01 11:14:38  2023-06-01 18:05:38   \n",
            "3             Low   Social media  2023-06-01 07:29:40  2023-06-01 01:57:40   \n",
            "4             Low          Email  2023-06-01 00:12:42  2023-06-01 19:53:42   \n",
            "\n",
            "   Customer Satisfaction Rating  \n",
            "0                           NaN  \n",
            "1                           NaN  \n",
            "2                           3.0  \n",
            "3                           3.0  \n",
            "4                           1.0  \n"
          ]
        }
      ]
    },
    {
      "cell_type": "code",
      "source": [
        "if 'ticket_description' in data.columns:\n",
        "    data['sentiment'] = data['ticket_description'].apply(lambda x: TextBlob(x).sentiment.polarity)\n",
        "\n",
        "    print(\"\\nData with Sentiment Scores:\")\n",
        "    print(data[['ticket_description', 'sentiment']].head())\n",
        "\n",
        "    features = data[['sentiment', 'response.code', 'ticket_type']].copy()\n",
        "\n",
        "    features = pd.get_dummies(features, columns=['ticket_type'], drop_first=True)\n",
        "\n",
        "    scaler = StandardScaler()\n",
        "    features_scaled = scaler.fit_transform(features)\n",
        "\n",
        "    inertia = []\n",
        "    for k in range(1, 11):\n",
        "        kmeans = KMeans(n_clusters=k, random_state=42)\n",
        "        kmeans.fit(features_scaled)\n",
        "        inertia.append(kmeans.inertia_)\n",
        "\n",
        "    plt.figure(figsize=(10, 6))\n",
        "    plt.plot(range(1, 11), inertia, marker='o')\n",
        "    plt.title('Elbow Method for Optimal k')\n",
        "    plt.xlabel('Number of Clusters (k)')\n",
        "    plt.ylabel('Inertia')\n",
        "    plt.grid()\n",
        "    plt.show()\n",
        "\n",
        "    optimal_k = 3\n",
        "    kmeans = KMeans(n_clusters=optimal_k, random_state=42)\n",
        "    data['cluster'] = kmeans.fit_predict(features_scaled)\n",
        "\n",
        "    cluster_analysis = data.groupby('cluster').mean(numeric_only=True)\n",
        "    print(\"\\nCluster Characteristics:\")\n",
        "    print(cluster_analysis)\n",
        "\n",
        "    plt.figure(figsize=(10, 6))\n",
        "    sns.scatterplot(x='sentiment', y='response.code', hue='cluster', data=data, palette='viridis', alpha=0.6)\n",
        "    plt.title('Customer Segments Visualization')\n",
        "    plt.xlabel('Sentiment Score')\n",
        "    plt.ylabel('Customer Satisfaction (Response Code)')\n",
        "    plt.axhline(200, color='red', linestyle='--', label='Success Threshold')\n",
        "    plt.legend()\n",
        "    plt.show()\n",
        "\n",
        "else:\n",
        "    print(\"The dataset does not contain a 'ticket_description' column.\")"
      ],
      "metadata": {
        "id": "uZoFyzRFI652",
        "colab": {
          "base_uri": "https://localhost:8080/"
        },
        "outputId": "78ab8d19-0150-4ad6-920d-dc331d8767da"
      },
      "execution_count": null,
      "outputs": [
        {
          "output_type": "stream",
          "name": "stdout",
          "text": [
            "The dataset does not contain a 'ticket_description' column.\n"
          ]
        }
      ]
    },
    {
      "cell_type": "markdown",
      "source": [
        "# Correlation Analysis"
      ],
      "metadata": {
        "id": "4wPCmL8E2LXJ"
      }
    },
    {
      "cell_type": "code",
      "source": [
        "if 'response.code' in data.columns and 'resolution_time' in data.columns:\n",
        "    correlation_matrix = data[['response.code', 'resolution_time']].corr()\n",
        "    print(\"\\nCorrelation Matrix:\")\n",
        "    print(correlation_matrix)\n",
        "\n",
        "    plt.figure(figsize=(8, 6))\n",
        "    sns.heatmap(correlation_matrix, annot=True, cmap='coolwarm', fmt=\".2f\")\n",
        "    plt.title('Correlation Heatmap')\n",
        "    plt.show()\n",
        "\n",
        "    plt.figure(figsize=(10, 6))\n",
        "    sns.scatterplot(x='resolution_time', y='response.code', data=data, alpha=0.6)\n",
        "    plt.title('Customer Satisfaction vs. Ticket Resolution Time')\n",
        "    plt.xlabel('Ticket Resolution Time')\n",
        "    plt.ylabel('Customer Satisfaction (Response Code)')\n",
        "    plt.axhline(200, color='red', linestyle='--', label='Success Threshold')\n",
        "    plt.legend()\n",
        "    plt.show()\n",
        "\n",
        "else:\n",
        "    print(\"One or both of the columns 'response.code' and 'resolution_time' do not exist in the dataset.\")"
      ],
      "metadata": {
        "colab": {
          "base_uri": "https://localhost:8080/"
        },
        "id": "irlGHtMgI64N",
        "outputId": "80aef529-e8cb-4f75-cd21-b3a3372cb307"
      },
      "execution_count": null,
      "outputs": [
        {
          "output_type": "stream",
          "name": "stdout",
          "text": [
            "One or both of the columns 'response.code' and 'resolution_time' do not exist in the dataset.\n"
          ]
        }
      ]
    },
    {
      "cell_type": "markdown",
      "source": [
        "# Trend Analysis\n"
      ],
      "metadata": {
        "id": "3F219r-sCfFs"
      }
    },
    {
      "cell_type": "code",
      "source": [
        "import pandas as pd\n",
        "import matplotlib.pyplot as plt\n",
        "import seaborn as sns"
      ],
      "metadata": {
        "id": "kFMPFDobC5-o"
      },
      "execution_count": null,
      "outputs": []
    },
    {
      "cell_type": "code",
      "source": [
        "file_path = '/content/customer_support_tickets (1).csv'\n",
        "data = pd.read_csv(file_path)"
      ],
      "metadata": {
        "id": "fCI8_DMLC57U"
      },
      "execution_count": null,
      "outputs": []
    },
    {
      "cell_type": "code",
      "source": [
        "print(\"Initial Data:\")\n",
        "print(data.head())"
      ],
      "metadata": {
        "colab": {
          "base_uri": "https://localhost:8080/"
        },
        "id": "Qpj5AaVtC55_",
        "outputId": "2a1b65f9-457d-4b41-a916-6a6de2dadbd3"
      },
      "execution_count": null,
      "outputs": [
        {
          "output_type": "stream",
          "name": "stdout",
          "text": [
            "Initial Data:\n",
            "   Ticket ID        Customer Name              Customer Email  Customer Age  \\\n",
            "0          1        Marisa Obrien  carrollallison@example.com            32   \n",
            "1          2         Jessica Rios    clarkeashley@example.com            42   \n",
            "2          3  Christopher Robbins   gonzalestracy@example.com            48   \n",
            "3          4     Christina Dillon    bradleyolson@example.org            27   \n",
            "4          5    Alexander Carroll     bradleymark@example.com            67   \n",
            "\n",
            "  Customer Gender Product Purchased Date of Purchase      Ticket Type  \\\n",
            "0           Other        GoPro Hero       2021-03-22  Technical issue   \n",
            "1          Female       LG Smart TV       2021-05-22  Technical issue   \n",
            "2           Other          Dell XPS       2020-07-14  Technical issue   \n",
            "3          Female  Microsoft Office       2020-11-13  Billing inquiry   \n",
            "4          Female  Autodesk AutoCAD       2020-02-04  Billing inquiry   \n",
            "\n",
            "             Ticket Subject  \\\n",
            "0             Product setup   \n",
            "1  Peripheral compatibility   \n",
            "2           Network problem   \n",
            "3            Account access   \n",
            "4                 Data loss   \n",
            "\n",
            "                                  Ticket Description  \\\n",
            "0  I'm having an issue with the {product_purchase...   \n",
            "1  I'm having an issue with the {product_purchase...   \n",
            "2  I'm facing a problem with my {product_purchase...   \n",
            "3  I'm having an issue with the {product_purchase...   \n",
            "4  I'm having an issue with the {product_purchase...   \n",
            "\n",
            "               Ticket Status                                     Resolution  \\\n",
            "0  Pending Customer Response                                            NaN   \n",
            "1  Pending Customer Response                                            NaN   \n",
            "2                     Closed   Case maybe show recently my computer follow.   \n",
            "3                     Closed  Try capital clearly never color toward story.   \n",
            "4                     Closed                    West decision evidence bit.   \n",
            "\n",
            "  Ticket Priority Ticket Channel  First Response Time   Time to Resolution  \\\n",
            "0        Critical   Social media  2023-06-01 12:15:36                  NaN   \n",
            "1        Critical           Chat  2023-06-01 16:45:38                  NaN   \n",
            "2             Low   Social media  2023-06-01 11:14:38  2023-06-01 18:05:38   \n",
            "3             Low   Social media  2023-06-01 07:29:40  2023-06-01 01:57:40   \n",
            "4             Low          Email  2023-06-01 00:12:42  2023-06-01 19:53:42   \n",
            "\n",
            "   Customer Satisfaction Rating  \n",
            "0                           NaN  \n",
            "1                           NaN  \n",
            "2                           3.0  \n",
            "3                           3.0  \n",
            "4                           1.0  \n"
          ]
        }
      ]
    },
    {
      "cell_type": "code",
      "source": [
        "if 'creation_time' in data.columns:\n",
        "    data['creation_time'] = pd.to_datetime(data['creation_time'])"
      ],
      "metadata": {
        "id": "hrmyeyzYC53m"
      },
      "execution_count": null,
      "outputs": []
    },
    {
      "cell_type": "code",
      "source": [
        "if 'creation_time' in data.columns:\n",
        "    data['creation_time'] = pd.to_datetime(data['creation_time'])\n",
        "\n",
        "    data.set_index('creation_time', inplace=True)"
      ],
      "metadata": {
        "id": "S4TeryTEC52H"
      },
      "execution_count": null,
      "outputs": []
    },
    {
      "cell_type": "code",
      "source": [
        "if 'creation_time' in data.columns:\n",
        "    data['creation_time'] = pd.to_datetime(data['creation_time'])\n",
        "\n",
        "    data.set_index('creation_time', inplace=True)\n",
        "\n",
        "    monthly_tickets = data.resample('M').size()\n",
        "\n",
        "    monthly_satisfaction = data.resample('M')['response.code'].mean()\n",
        "\n",
        "    plt.figure(figsize=(14, 7))\n",
        "\n",
        "    plt.subplot(2, 1, 1)\n",
        "    monthly_tickets.plot(kind='bar', color='skyblue', alpha=0.7)\n",
        "    plt.title('Monthly Ticket Volume')\n",
        "    plt.xlabel('Month')\n",
        "    plt.ylabel('Number of Tickets')\n",
        "    plt.xticks(rotation=45)\n",
        "    plt.grid()\n",
        "\n",
        "    plt.subplot(2, 1, 2)\n",
        "    monthly_satisfaction.plot(kind='line', marker='o', color='orange')\n",
        "    plt.title('Average Customer Satisfaction Over Time')\n",
        "    plt.xlabel('Month')\n",
        "    plt.ylabel('Average Satisfaction Rating (Response Code)')\n",
        "    plt.axhline(200, color='red', linestyle='--', label='Success Threshold')\n",
        "    plt.legend()\n",
        "    plt.xticks(rotation=45)\n",
        "    plt.grid()\n",
        "\n",
        "    plt.tight_layout()\n",
        "    plt.show()\n",
        "\n",
        "else:\n",
        "    print(\"The dataset does not contain a 'creation_time' column.\")"
      ],
      "metadata": {
        "colab": {
          "base_uri": "https://localhost:8080/"
        },
        "id": "BUYz7_1ZC5zA",
        "outputId": "7ee823df-e22d-4421-a0f5-1594738ada57"
      },
      "execution_count": null,
      "outputs": [
        {
          "output_type": "stream",
          "name": "stdout",
          "text": [
            "The dataset does not contain a 'creation_time' column.\n"
          ]
        }
      ]
    },
    {
      "cell_type": "markdown",
      "source": [
        "# Predictive Modeling"
      ],
      "metadata": {
        "id": "4ZA0YYpaD5M-"
      }
    },
    {
      "cell_type": "code",
      "source": [
        "import pandas as pd\n",
        "from sklearn.model_selection import train_test_split\n",
        "from sklearn.ensemble import RandomForestRegressor\n",
        "from sklearn.metrics import mean_squared_error, r2_score\n",
        "from sklearn.preprocessing import StandardScaler\n",
        "from sklearn.preprocessing import OneHotEncoder\n",
        "from sklearn.compose import ColumnTransformer\n",
        "from sklearn.pipeline import Pipeline"
      ],
      "metadata": {
        "id": "g3fWqdtUC5xv"
      },
      "execution_count": null,
      "outputs": []
    },
    {
      "cell_type": "code",
      "source": [
        "file_path = '/content/customer_support_tickets (1).csv'\n",
        "data = pd.read_csv(file_path)\n",
        "\n",
        "print(\"Initial Data:\")\n",
        "print(data.head())"
      ],
      "metadata": {
        "colab": {
          "base_uri": "https://localhost:8080/"
        },
        "id": "-Sr39rCTC5uy",
        "outputId": "bfbf02ab-2c1e-4c25-8bcb-9f5dae93ecf5"
      },
      "execution_count": null,
      "outputs": [
        {
          "output_type": "stream",
          "name": "stdout",
          "text": [
            "Initial Data:\n",
            "   Ticket ID        Customer Name              Customer Email  Customer Age  \\\n",
            "0          1        Marisa Obrien  carrollallison@example.com            32   \n",
            "1          2         Jessica Rios    clarkeashley@example.com            42   \n",
            "2          3  Christopher Robbins   gonzalestracy@example.com            48   \n",
            "3          4     Christina Dillon    bradleyolson@example.org            27   \n",
            "4          5    Alexander Carroll     bradleymark@example.com            67   \n",
            "\n",
            "  Customer Gender Product Purchased Date of Purchase      Ticket Type  \\\n",
            "0           Other        GoPro Hero       2021-03-22  Technical issue   \n",
            "1          Female       LG Smart TV       2021-05-22  Technical issue   \n",
            "2           Other          Dell XPS       2020-07-14  Technical issue   \n",
            "3          Female  Microsoft Office       2020-11-13  Billing inquiry   \n",
            "4          Female  Autodesk AutoCAD       2020-02-04  Billing inquiry   \n",
            "\n",
            "             Ticket Subject  \\\n",
            "0             Product setup   \n",
            "1  Peripheral compatibility   \n",
            "2           Network problem   \n",
            "3            Account access   \n",
            "4                 Data loss   \n",
            "\n",
            "                                  Ticket Description  \\\n",
            "0  I'm having an issue with the {product_purchase...   \n",
            "1  I'm having an issue with the {product_purchase...   \n",
            "2  I'm facing a problem with my {product_purchase...   \n",
            "3  I'm having an issue with the {product_purchase...   \n",
            "4  I'm having an issue with the {product_purchase...   \n",
            "\n",
            "               Ticket Status                                     Resolution  \\\n",
            "0  Pending Customer Response                                            NaN   \n",
            "1  Pending Customer Response                                            NaN   \n",
            "2                     Closed   Case maybe show recently my computer follow.   \n",
            "3                     Closed  Try capital clearly never color toward story.   \n",
            "4                     Closed                    West decision evidence bit.   \n",
            "\n",
            "  Ticket Priority Ticket Channel  First Response Time   Time to Resolution  \\\n",
            "0        Critical   Social media  2023-06-01 12:15:36                  NaN   \n",
            "1        Critical           Chat  2023-06-01 16:45:38                  NaN   \n",
            "2             Low   Social media  2023-06-01 11:14:38  2023-06-01 18:05:38   \n",
            "3             Low   Social media  2023-06-01 07:29:40  2023-06-01 01:57:40   \n",
            "4             Low          Email  2023-06-01 00:12:42  2023-06-01 19:53:42   \n",
            "\n",
            "   Customer Satisfaction Rating  \n",
            "0                           NaN  \n",
            "1                           NaN  \n",
            "2                           3.0  \n",
            "3                           3.0  \n",
            "4                           1.0  \n"
          ]
        }
      ]
    },
    {
      "cell_type": "code",
      "source": [
        "if 'response.code' in data.columns and 'resolution_time' in data.columns:\n",
        "\n",
        "    data = data[['response.code', 'resolution_time', 'ticket_type', 'customer_gender']].dropna()\n",
        "\n",
        "    X = data[['resolution_time', 'ticket_type', 'customer_gender']]\n",
        "    y = data['response.code']\n",
        "\n",
        "    X_train, X_test, y_train, y_test = train_test_split(X, y, test_size=0.2, random_state=42)\n",
        "\n",
        "    preprocessor = ColumnTransformer(\n",
        "        transformers=[\n",
        "            ('num', StandardScaler(), ['resolution_time']),\n",
        "            ('cat', OneHotEncoder(), ['ticket_type', 'customer_gender'])\n",
        "        ])\n",
        "\n",
        "    model = Pipeline(steps=[\n",
        "        ('preprocessor', preprocessor),\n",
        "        ('regressor', RandomForestRegressor(random_state=42))\n",
        "    ])\n",
        "\n",
        "    model.fit(X_train, y_train)\n",
        "\n",
        "    y_pred = model.predict(X_test)\n",
        "\n",
        "    mse = mean_squared_error(y_test, y_pred)\n",
        "    r2 = r2_score(y_test, y_pred)\n",
        "\n",
        "    print(f\"\\nMean Squared Error: {mse:.2f}\")\n",
        "    print(f\"R^2 Score: {r2:.2f}\")\n",
        "\n",
        "else:\n",
        "    print(\"The dataset does not contain the required columns for prediction.\")"
      ],
      "metadata": {
        "colab": {
          "base_uri": "https://localhost:8080/"
        },
        "id": "RC1Z7O03C5tg",
        "outputId": "f1cb04d8-46f7-4413-9b4c-1feecf75a0ca"
      },
      "execution_count": null,
      "outputs": [
        {
          "output_type": "stream",
          "name": "stdout",
          "text": [
            "The dataset does not contain the required columns for prediction.\n"
          ]
        }
      ]
    },
    {
      "cell_type": "code",
      "source": [],
      "metadata": {
        "id": "vxq8WSLrI60D"
      },
      "execution_count": null,
      "outputs": []
    },
    {
      "cell_type": "code",
      "source": [],
      "metadata": {
        "id": "sE3P2aUEI6yo"
      },
      "execution_count": null,
      "outputs": []
    },
    {
      "cell_type": "code",
      "source": [],
      "metadata": {
        "id": "sEn8EmGqI6jC"
      },
      "execution_count": null,
      "outputs": []
    }
  ]
}